{
 "cells": [
  {
   "attachments": {},
   "cell_type": "markdown",
   "metadata": {},
   "source": [
    "# Model Benchmark"
   ]
  },
  {
   "attachments": {},
   "cell_type": "markdown",
   "metadata": {},
   "source": [
    "This Jupyter Notebook aims to create a benchmark model using a Convolutional Neural Network (CNN) with the ResNet50 architecture. Unlike the main model, this benchmark model will not utilize transfer learning. By implementing the same architecture as the main model, we can establish a performance baseline for comparison and evaluate the impact of transfer learning on model performance. Throughout this notebook, we will train the benchmark model from scratch using the available dataset, analyze its accuracy and loss, and assess its performance as a reference point for further improvements."
   ]
  },
  {
   "attachments": {},
   "cell_type": "markdown",
   "metadata": {},
   "source": [
    "## 1. Imports"
   ]
  },
  {
   "cell_type": "code",
   "execution_count": 1,
   "metadata": {},
   "outputs": [
    {
     "name": "stdout",
     "output_type": "stream",
     "text": [
      "[2023-06-30 16:09:01.012 Lucass-MacBook-Air.local:2173 INFO utils.py:27] RULE_JOB_STOP_SIGNAL_FILENAME: None\n"
     ]
    }
   ],
   "source": [
    "import os\n",
    "import json\n",
    "import boto3\n",
    "import random\n",
    "import shutil\n",
    "\n",
    "from tqdm import tqdm\n",
    "\n",
    "import sagemaker\n",
    "from sagemaker.session import Session\n",
    "from sagemaker import get_execution_role\n",
    "from sagemaker.analytics import HyperparameterTuningJobAnalytics\n",
    "from sagemaker.tuner import CategoricalParameter, ContinuousParameter, HyperparameterTuner, IntegerParameter\n",
    "from sagemaker.pytorch import PyTorch, PyTorchModel\n",
    "from sagemaker.predictor import Predictor\n",
    "from sagemaker.debugger import Rule, rule_configs, ProfilerRule, DebuggerHookConfig, CollectionConfig, ProfilerConfig, FrameworkProfile\n",
    "from smdebug.trials import create_trial\n",
    "from smdebug.core.modes import ModeKeys\n",
    "\n",
    "from IPython.display import Image, display"
   ]
  },
  {
   "attachments": {},
   "cell_type": "markdown",
   "metadata": {},
   "source": [
    "## 2. Training"
   ]
  },
  {
   "cell_type": "code",
   "execution_count": 2,
   "metadata": {},
   "outputs": [],
   "source": [
    "role = \"arn:aws:iam::860372235077:role/service-role/AmazonSageMaker-ExecutionRole-20230609T125000\"\n",
    "sagemaker_session = sagemaker.Session()"
   ]
  },
  {
   "cell_type": "code",
   "execution_count": 3,
   "metadata": {},
   "outputs": [
    {
     "name": "stdout",
     "output_type": "stream",
     "text": [
      "Input path: s3://object-counter-project/data\n"
     ]
    }
   ],
   "source": [
    "s3_bucket = 'object-counter-project'\n",
    "s3_prefix = 'data'\n",
    "input_path = f's3://{s3_bucket}/{s3_prefix}'\n",
    "print(f'Input path: {input_path}')"
   ]
  },
  {
   "cell_type": "code",
   "execution_count": 11,
   "metadata": {},
   "outputs": [],
   "source": [
    "hyperparameters = {\"batch_size\": 32, \n",
    "                   \"learning_rate\": 0.001, \n",
    "                   \"epochs\":10}\n",
    "\n",
    "estimator = PyTorch(entry_point='benchmark_train.py',\n",
    "                    base_job_name='object-counter-benchmarking',\n",
    "                    role=role,\n",
    "                    framework_version='2.0.0',\n",
    "                    py_version='py310',\n",
    "                    instance_count=1,\n",
    "                    instance_type='ml.g4dn.2xlarge',\n",
    "                    hyperparameters=hyperparameters,\n",
    "                    output_path=f's3://{s3_bucket}/training_output')"
   ]
  },
  {
   "cell_type": "code",
   "execution_count": 12,
   "metadata": {},
   "outputs": [
    {
     "name": "stdout",
     "output_type": "stream",
     "text": [
      "Using provided s3_resource\n"
     ]
    },
    {
     "name": "stderr",
     "output_type": "stream",
     "text": [
      "INFO:sagemaker.image_uris:image_uri is not presented, retrieving image_uri based on instance_type, framework etc.\n",
      "INFO:sagemaker:Creating training-job with name: object-counter-benchmarking-2023-06-30-19-52-23-819\n"
     ]
    },
    {
     "name": "stdout",
     "output_type": "stream",
     "text": [
      "2023-06-30 19:52:26 Starting - Starting the training job...\n",
      "2023-06-30 19:52:42 Starting - Preparing the instances for training......\n",
      "2023-06-30 19:53:53 Downloading - Downloading input data............\n",
      "2023-06-30 19:55:54 Training - Downloading the training image.........\n",
      "2023-06-30 19:57:24 Training - Training image download completed. Training in progress...bash: cannot set terminal process group (-1): Inappropriate ioctl for device\n",
      "bash: no job control in this shell\n",
      "2023-06-30 19:57:55,425 sagemaker-training-toolkit INFO     Imported framework sagemaker_pytorch_container.training\n",
      "2023-06-30 19:57:55,444 sagemaker-training-toolkit INFO     No Neurons detected (normal if no neurons installed)\n",
      "2023-06-30 19:57:55,453 sagemaker_pytorch_container.training INFO     Block until all host DNS lookups succeed.\n",
      "2023-06-30 19:57:55,455 sagemaker_pytorch_container.training INFO     Invoking user training script.\n",
      "2023-06-30 19:57:57,041 sagemaker-training-toolkit INFO     No Neurons detected (normal if no neurons installed)\n",
      "2023-06-30 19:57:57,069 sagemaker-training-toolkit INFO     No Neurons detected (normal if no neurons installed)\n",
      "2023-06-30 19:57:57,112 sagemaker-training-toolkit INFO     No Neurons detected (normal if no neurons installed)\n",
      "2023-06-30 19:57:57,123 sagemaker-training-toolkit INFO     Invoking user script\n",
      "Training Env:\n",
      "{\n",
      "    \"additional_framework_parameters\": {},\n",
      "    \"channel_input_dirs\": {\n",
      "        \"training\": \"/opt/ml/input/data/training\"\n",
      "    },\n",
      "    \"current_host\": \"algo-1\",\n",
      "    \"current_instance_group\": \"homogeneousCluster\",\n",
      "    \"current_instance_group_hosts\": [\n",
      "        \"algo-1\"\n",
      "    ],\n",
      "    \"current_instance_type\": \"ml.g4dn.2xlarge\",\n",
      "    \"distribution_hosts\": [],\n",
      "    \"distribution_instance_groups\": [],\n",
      "    \"framework_module\": \"sagemaker_pytorch_container.training:main\",\n",
      "    \"hosts\": [\n",
      "        \"algo-1\"\n",
      "    ],\n",
      "    \"hyperparameters\": {\n",
      "        \"batch_size\": 32,\n",
      "        \"epochs\": 10,\n",
      "        \"learning_rate\": 0.001\n",
      "    },\n",
      "    \"input_config_dir\": \"/opt/ml/input/config\",\n",
      "    \"input_data_config\": {\n",
      "        \"training\": {\n",
      "            \"TrainingInputMode\": \"File\",\n",
      "            \"S3DistributionType\": \"FullyReplicated\",\n",
      "            \"RecordWrapperType\": \"None\"\n",
      "        }\n",
      "    },\n",
      "    \"input_dir\": \"/opt/ml/input\",\n",
      "    \"instance_groups\": [\n",
      "        \"homogeneousCluster\"\n",
      "    ],\n",
      "    \"instance_groups_dict\": {\n",
      "        \"homogeneousCluster\": {\n",
      "            \"instance_group_name\": \"homogeneousCluster\",\n",
      "            \"instance_type\": \"ml.g4dn.2xlarge\",\n",
      "            \"hosts\": [\n",
      "                \"algo-1\"\n",
      "            ]\n",
      "        }\n",
      "    },\n",
      "    \"is_hetero\": false,\n",
      "    \"is_master\": true,\n",
      "    \"is_modelparallel_enabled\": null,\n",
      "    \"is_smddpmprun_installed\": true,\n",
      "    \"job_name\": \"object-counter-benchmarking-2023-06-30-19-52-23-819\",\n",
      "    \"log_level\": 20,\n",
      "    \"master_hostname\": \"algo-1\",\n",
      "    \"model_dir\": \"/opt/ml/model\",\n",
      "    \"module_dir\": \"s3://object-counter-project/object-counter-benchmarking-2023-06-30-19-52-23-819/source/sourcedir.tar.gz\",\n",
      "    \"module_name\": \"benchmark_train\",\n",
      "    \"network_interface_name\": \"eth0\",\n",
      "    \"num_cpus\": 8,\n",
      "    \"num_gpus\": 1,\n",
      "    \"num_neurons\": 0,\n",
      "    \"output_data_dir\": \"/opt/ml/output/data\",\n",
      "    \"output_dir\": \"/opt/ml/output\",\n",
      "    \"output_intermediate_dir\": \"/opt/ml/output/intermediate\",\n",
      "    \"resource_config\": {\n",
      "        \"current_host\": \"algo-1\",\n",
      "        \"current_instance_type\": \"ml.g4dn.2xlarge\",\n",
      "        \"current_group_name\": \"homogeneousCluster\",\n",
      "        \"hosts\": [\n",
      "            \"algo-1\"\n",
      "        ],\n",
      "        \"instance_groups\": [\n",
      "            {\n",
      "                \"instance_group_name\": \"homogeneousCluster\",\n",
      "                \"instance_type\": \"ml.g4dn.2xlarge\",\n",
      "                \"hosts\": [\n",
      "                    \"algo-1\"\n",
      "                ]\n",
      "            }\n",
      "        ],\n",
      "        \"network_interface_name\": \"eth0\"\n",
      "    },\n",
      "    \"user_entry_point\": \"benchmark_train.py\"\n",
      "}\n",
      "Environment variables:\n",
      "SM_HOSTS=[\"algo-1\"]\n",
      "SM_NETWORK_INTERFACE_NAME=eth0\n",
      "SM_HPS={\"batch_size\":32,\"epochs\":10,\"learning_rate\":0.001}\n",
      "SM_USER_ENTRY_POINT=benchmark_train.py\n",
      "SM_FRAMEWORK_PARAMS={}\n",
      "SM_RESOURCE_CONFIG={\"current_group_name\":\"homogeneousCluster\",\"current_host\":\"algo-1\",\"current_instance_type\":\"ml.g4dn.2xlarge\",\"hosts\":[\"algo-1\"],\"instance_groups\":[{\"hosts\":[\"algo-1\"],\"instance_group_name\":\"homogeneousCluster\",\"instance_type\":\"ml.g4dn.2xlarge\"}],\"network_interface_name\":\"eth0\"}\n",
      "SM_INPUT_DATA_CONFIG={\"training\":{\"RecordWrapperType\":\"None\",\"S3DistributionType\":\"FullyReplicated\",\"TrainingInputMode\":\"File\"}}\n",
      "SM_OUTPUT_DATA_DIR=/opt/ml/output/data\n",
      "SM_CHANNELS=[\"training\"]\n",
      "SM_CURRENT_HOST=algo-1\n",
      "SM_CURRENT_INSTANCE_TYPE=ml.g4dn.2xlarge\n",
      "SM_CURRENT_INSTANCE_GROUP=homogeneousCluster\n",
      "SM_CURRENT_INSTANCE_GROUP_HOSTS=[\"algo-1\"]\n",
      "SM_INSTANCE_GROUPS=[\"homogeneousCluster\"]\n",
      "SM_INSTANCE_GROUPS_DICT={\"homogeneousCluster\":{\"hosts\":[\"algo-1\"],\"instance_group_name\":\"homogeneousCluster\",\"instance_type\":\"ml.g4dn.2xlarge\"}}\n",
      "SM_DISTRIBUTION_INSTANCE_GROUPS=[]\n",
      "SM_IS_HETERO=false\n",
      "SM_MODULE_NAME=benchmark_train\n",
      "SM_LOG_LEVEL=20\n",
      "SM_FRAMEWORK_MODULE=sagemaker_pytorch_container.training:main\n",
      "SM_INPUT_DIR=/opt/ml/input\n",
      "SM_INPUT_CONFIG_DIR=/opt/ml/input/config\n",
      "SM_OUTPUT_DIR=/opt/ml/output\n",
      "SM_NUM_CPUS=8\n",
      "SM_NUM_GPUS=1\n",
      "SM_NUM_NEURONS=0\n",
      "SM_MODEL_DIR=/opt/ml/model\n",
      "SM_MODULE_DIR=s3://object-counter-project/object-counter-benchmarking-2023-06-30-19-52-23-819/source/sourcedir.tar.gz\n",
      "SM_TRAINING_ENV={\"additional_framework_parameters\":{},\"channel_input_dirs\":{\"training\":\"/opt/ml/input/data/training\"},\"current_host\":\"algo-1\",\"current_instance_group\":\"homogeneousCluster\",\"current_instance_group_hosts\":[\"algo-1\"],\"current_instance_type\":\"ml.g4dn.2xlarge\",\"distribution_hosts\":[],\"distribution_instance_groups\":[],\"framework_module\":\"sagemaker_pytorch_container.training:main\",\"hosts\":[\"algo-1\"],\"hyperparameters\":{\"batch_size\":32,\"epochs\":10,\"learning_rate\":0.001},\"input_config_dir\":\"/opt/ml/input/config\",\"input_data_config\":{\"training\":{\"RecordWrapperType\":\"None\",\"S3DistributionType\":\"FullyReplicated\",\"TrainingInputMode\":\"File\"}},\"input_dir\":\"/opt/ml/input\",\"instance_groups\":[\"homogeneousCluster\"],\"instance_groups_dict\":{\"homogeneousCluster\":{\"hosts\":[\"algo-1\"],\"instance_group_name\":\"homogeneousCluster\",\"instance_type\":\"ml.g4dn.2xlarge\"}},\"is_hetero\":false,\"is_master\":true,\"is_modelparallel_enabled\":null,\"is_smddpmprun_installed\":true,\"job_name\":\"object-counter-benchmarking-2023-06-30-19-52-23-819\",\"log_level\":20,\"master_hostname\":\"algo-1\",\"model_dir\":\"/opt/ml/model\",\"module_dir\":\"s3://object-counter-project/object-counter-benchmarking-2023-06-30-19-52-23-819/source/sourcedir.tar.gz\",\"module_name\":\"benchmark_train\",\"network_interface_name\":\"eth0\",\"num_cpus\":8,\"num_gpus\":1,\"num_neurons\":0,\"output_data_dir\":\"/opt/ml/output/data\",\"output_dir\":\"/opt/ml/output\",\"output_intermediate_dir\":\"/opt/ml/output/intermediate\",\"resource_config\":{\"current_group_name\":\"homogeneousCluster\",\"current_host\":\"algo-1\",\"current_instance_type\":\"ml.g4dn.2xlarge\",\"hosts\":[\"algo-1\"],\"instance_groups\":[{\"hosts\":[\"algo-1\"],\"instance_group_name\":\"homogeneousCluster\",\"instance_type\":\"ml.g4dn.2xlarge\"}],\"network_interface_name\":\"eth0\"},\"user_entry_point\":\"benchmark_train.py\"}\n",
      "SM_USER_ARGS=[\"--batch_size\",\"32\",\"--epochs\",\"10\",\"--learning_rate\",\"0.001\"]\n",
      "SM_OUTPUT_INTERMEDIATE_DIR=/opt/ml/output/intermediate\n",
      "SM_CHANNEL_TRAINING=/opt/ml/input/data/training\n",
      "SM_HP_BATCH_SIZE=32\n",
      "SM_HP_EPOCHS=10\n",
      "SM_HP_LEARNING_RATE=0.001\n",
      "PYTHONPATH=/opt/ml/code:/opt/conda/bin:/opt/conda/lib/python310.zip:/opt/conda/lib/python3.10:/opt/conda/lib/python3.10/lib-dynload:/opt/conda/lib/python3.10/site-packages\n",
      "Invoking script with the following command:\n",
      "/opt/conda/bin/python3.10 benchmark_train.py --batch_size 32 --epochs 10 --learning_rate 0.001\n",
      "2023-06-30 19:57:57,153 sagemaker-training-toolkit INFO     Exceptions not imported for SageMaker TF as Tensorflow is not installed.\n",
      "Collecting torchmetrics\n",
      "Downloading torchmetrics-0.11.4-py3-none-any.whl (519 kB)\n",
      "━━━━━━━━━━━━━━━━━━━━━━━━━━━━━━━━━━━━━━ 519.2/519.2 kB 27.4 MB/s eta 0:00:00\n",
      "Requirement already satisfied: numpy>=1.17.2 in /opt/conda/lib/python3.10/site-packages (from torchmetrics) (1.23.5)\n",
      "Requirement already satisfied: torch>=1.8.1 in /opt/conda/lib/python3.10/site-packages (from torchmetrics) (2.0.0)\n",
      "Requirement already satisfied: packaging in /opt/conda/lib/python3.10/site-packages (from torchmetrics) (23.1)\n",
      "Requirement already satisfied: filelock in /opt/conda/lib/python3.10/site-packages (from torch>=1.8.1->torchmetrics) (3.12.0)\n",
      "Requirement already satisfied: typing-extensions in /opt/conda/lib/python3.10/site-packages (from torch>=1.8.1->torchmetrics) (4.5.0)\n",
      "Requirement already satisfied: sympy in /opt/conda/lib/python3.10/site-packages (from torch>=1.8.1->torchmetrics) (1.11.1)\n",
      "Requirement already satisfied: networkx in /opt/conda/lib/python3.10/site-packages (from torch>=1.8.1->torchmetrics) (3.1)\n",
      "Requirement already satisfied: jinja2 in /opt/conda/lib/python3.10/site-packages (from torch>=1.8.1->torchmetrics) (3.1.2)\n",
      "Requirement already satisfied: MarkupSafe>=2.0 in /opt/conda/lib/python3.10/site-packages (from jinja2->torch>=1.8.1->torchmetrics) (2.1.2)\n",
      "Requirement already satisfied: mpmath>=0.19 in /opt/conda/lib/python3.10/site-packages (from sympy->torch>=1.8.1->torchmetrics) (1.3.0)\n",
      "Installing collected packages: torchmetrics\n",
      "Successfully installed torchmetrics-0.11.4\n",
      "WARNING: Running pip as the 'root' user can result in broken permissions and conflicting behaviour with the system package manager. It is recommended to use a virtual environment instead: https://pip.pypa.io/warnings/venv\n",
      "Batch size: 32, Learning rate: 0.001, Epochs: 10\n",
      "Input data path: /opt/ml/input/data/training, Output model path: /opt/ml/model, Output data path: /opt/ml/output/data\n",
      "Running on device cuda:0\n",
      "/opt/conda/lib/python3.10/site-packages/torchvision/models/_utils.py:208: UserWarning: The parameter 'pretrained' is deprecated since 0.13 and may be removed in the future, please use 'weights' instead.\n",
      "  warnings.warn(\n",
      "/opt/conda/lib/python3.10/site-packages/torchvision/models/_utils.py:223: UserWarning: Arguments other than a weight enum or `None` for 'weights' are deprecated since 0.13 and may be removed in the future. The current behavior is equivalent to passing `weights=None`.\n",
      "  warnings.warn(msg)\n",
      "Starting training\n",
      "EPOCH 0\n",
      "Average Validation Accuracy: 0.2555\n",
      "Average Validation Loss: 1.5996\n",
      "EPOCH 1\n",
      "Average Validation Accuracy: 0.2555\n",
      "Average Validation Loss: 1.5850\n",
      "EPOCH 2\n",
      "Average Validation Accuracy: 0.2555\n",
      "Average Validation Loss: 1.5797\n",
      "EPOCH 3\n",
      "Average Validation Accuracy: 0.2555\n",
      "Average Validation Loss: 1.5778\n",
      "EPOCH 4\n",
      "Average Validation Accuracy: 0.2555\n",
      "Average Validation Loss: 1.5780\n",
      "EPOCH 5\n",
      "Average Validation Accuracy: 0.2555\n",
      "Average Validation Loss: 1.5785\n",
      "EPOCH 6\n",
      "Average Validation Accuracy: 0.2555\n",
      "Average Validation Loss: 1.5775\n",
      "EPOCH 7\n",
      "Average Validation Accuracy: 0.2555\n",
      "Average Validation Loss: 1.5788\n",
      "EPOCH 8\n",
      "Average Validation Accuracy: 0.2555\n",
      "Average Validation Loss: 1.5775\n",
      "EPOCH 9\n",
      "Average Validation Accuracy: 0.2555\n",
      "Average Validation Loss: 1.5779\n",
      "FINAL VALIDATION RESULTS\n",
      "Final Validation Accuracy: 0.2555\n",
      "Final Validation Loss: 1.5779\n",
      "\n",
      "2023-06-30 20:12:33 Uploading - Uploading generated training modelTEST METRICS\n",
      "Class 1: Precision=0.0000, Recall=0.0000, F1=0.0000\n",
      "Class 2: Precision=0.0000, Recall=0.0000, F1=0.0000\n",
      "Class 3: Precision=0.2563, Recall=1.0000, F1=0.4080\n",
      "Class 4: Precision=0.0000, Recall=0.0000, F1=0.0000\n",
      "Class 5: Precision=0.0000, Recall=0.0000, F1=0.0000\n",
      "Average Test Accuracy: 0.2563\n",
      "Average Test Loss: 1.5794\n",
      "Saving the model\n",
      "2023-06-30 20:12:27,717 sagemaker-training-toolkit INFO     Waiting for the process to finish and give a return code.\n",
      "2023-06-30 20:12:27,718 sagemaker-training-toolkit INFO     Done waiting for a return code. Received 0 from exiting process.\n",
      "2023-06-30 20:12:27,718 sagemaker-training-toolkit INFO     Reporting training SUCCESS\n",
      "\n",
      "2023-06-30 20:12:49 Completed - Training job completed\n",
      "Training seconds: 1136\n",
      "Billable seconds: 1136\n"
     ]
    }
   ],
   "source": [
    "estimator.fit({'training': input_path}, wait=True, logs='All')"
   ]
  },
  {
   "attachments": {},
   "cell_type": "markdown",
   "metadata": {},
   "source": [
    "## 3. Results"
   ]
  },
  {
   "attachments": {},
   "cell_type": "markdown",
   "metadata": {},
   "source": [
    "| Class   | Precision | Recall   | F1      |\n",
    "|---------|-----------|----------|---------|\n",
    "| Class 1 | 0.0000    | 0.0000   | 0.0000  |\n",
    "| Class 2 | 0.0000    | 0.0000   | 0.0000  |\n",
    "| Class 3 | 0.2563    | 1.0000   | 0.4080  |\n",
    "| Class 4 | 0.0000    | 0.0000   | 0.0000  |\n",
    "| Class 5 | 0.0000    | 0.0000   | 0.0000  |"
   ]
  },
  {
   "attachments": {},
   "cell_type": "markdown",
   "metadata": {},
   "source": [
    "| Average Test Accuracy | 0.2563         |\n",
    "|----------------------|----------------|\n",
    "| Average Test Loss     | 1.5794         |"
   ]
  }
 ],
 "metadata": {
  "kernelspec": {
   "display_name": "sagemaker",
   "language": "python",
   "name": "python3"
  },
  "language_info": {
   "codemirror_mode": {
    "name": "ipython",
    "version": 3
   },
   "file_extension": ".py",
   "mimetype": "text/x-python",
   "name": "python",
   "nbconvert_exporter": "python",
   "pygments_lexer": "ipython3",
   "version": "3.10.11"
  },
  "orig_nbformat": 4
 },
 "nbformat": 4,
 "nbformat_minor": 2
}
